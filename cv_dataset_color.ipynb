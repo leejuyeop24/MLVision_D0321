{
 "cells": [
  {
   "cell_type": "markdown",
   "metadata": {},
   "source": [
    "#### [ 이미지를 파일 데이터셋으로 생성 ]\n",
    "- 이미지 파일의 raw data 사용\n",
    "- 데이터셋 파일 : csv, json, ... 등등 개발자 선택  \n",
    "- 데이터셋 파일 구성 : 라벨 + 피쳐, 피쳐 + 라벨  \n",
    "- 1개 행(row)에 1개 이미지가 저장됨!"
   ]
  },
  {
   "cell_type": "markdown",
   "metadata": {},
   "source": [
    "[1] 모듈 로딩 및 데이터 준비 <hr>"
   ]
  },
  {
   "cell_type": "code",
   "execution_count": 69,
   "metadata": {},
   "outputs": [],
   "source": [
    "## [1-1] 모듈 로딩\n",
    "import cv2\t\t\t\t\t\t\t## 일반적인 이미지 파일들에서 순수 이미지 데이터 다루는 모듈듈\n",
    "import matplotlib.pyplot as plt\t\t## 시각화\n",
    "import numpy as np\t\t\t\t\t## 순수 이미지 데이터의 저장 형식 ndarray\n",
    "import os\t\t\t\t\t\t\t## 폴더, 파일, 경로 관련"
   ]
  },
  {
   "cell_type": "code",
   "execution_count": 70,
   "metadata": {},
   "outputs": [],
   "source": [
    "## [1-2] 데이터 준비\n",
    "IMG_DIR = '../data/image/'\t\t\t\t## 이미지 존재 폴더\n",
    "ROW, COL = 60, 60\t\t\t\t\t\t## 이미지 리사이징 크기\n",
    "DS_DIR = '../data/image/DS/'\t\t## 학습에 사용할 이미지 저장 폴더\n",
    "IMG_CSV = '../data/animal_color.csv'\t## 이미지 라벨과 이미지 로우데이터 저장\n",
    "\n",
    "DEBUG_MODE = True\t\t\t\t\t\t## 개발 단계에서 코드 체크 용도"
   ]
  },
  {
   "cell_type": "code",
   "execution_count": 71,
   "metadata": {},
   "outputs": [
    {
     "name": "stdout",
     "output_type": "stream",
     "text": [
      "../data/image/DS/ 존재함!\n"
     ]
    }
   ],
   "source": [
    "## 학습용 이미지 저장 폴더 생성\n",
    "if not os.path.exists(DS_DIR):\n",
    "\tos.makedirs(DS_DIR)\n",
    "else:\n",
    "\tprint(f'{DS_DIR} 존재함!')"
   ]
  },
  {
   "cell_type": "code",
   "execution_count": 72,
   "metadata": {},
   "outputs": [
    {
     "name": "stdout",
     "output_type": "stream",
     "text": [
      "['apple.png', 'copy_orange.png', 'cropped.jpg', 'fish.jpg', 'girl.jpg', 'opencv_logo.png', 'orange.png', 'resize_apple.png', 'strawberry.png', 'sunset.jpg', '스크린샷 2025-03-18 114847.png']\n"
     ]
    }
   ],
   "source": [
    "## [1-3] 사용 이미지 파일리스트 추출\n",
    "IMG_FILELIST = os.listdir(IMG_DIR)\n",
    "\n",
    "\n",
    "for filename in IMG_FILELIST:\n",
    "\tif not os.path.isfile(IMG_DIR+filename):\n",
    "\t\t# 파일이 아닌 경우 처리-리스트에서 제거\n",
    "\t\tIMG_FILELIST.remove(filename)\n",
    "\n",
    "if DEBUG_MODE: print(IMG_FILELIST)"
   ]
  },
  {
   "cell_type": "code",
   "execution_count": 73,
   "metadata": {},
   "outputs": [
    {
     "name": "stdout",
     "output_type": "stream",
     "text": [
      "[12, 4, 5]\n"
     ]
    }
   ],
   "source": [
    "aa = [12, 3, 4, 5]\n",
    "aa.remove(3)\n",
    "print(aa)"
   ]
  },
  {
   "cell_type": "code",
   "execution_count": 74,
   "metadata": {},
   "outputs": [
    {
     "name": "stdout",
     "output_type": "stream",
     "text": [
      "['apple.png', 'copy_orange.png', 'cropped.jpg', 'fish.jpg', 'girl.jpg', 'opencv_logo.png', 'orange.png', 'resize_apple.png', 'strawberry.png', 'sunset.jpg', '스크린샷 2025-03-18 114847.png']\n"
     ]
    }
   ],
   "source": [
    "print(IMG_FILELIST)"
   ]
  },
  {
   "cell_type": "code",
   "execution_count": 75,
   "metadata": {},
   "outputs": [
    {
     "name": "stdout",
     "output_type": "stream",
     "text": [
      "['apple.png', 'copy_orange.png', 'cropped.jpg', 'fish.jpg', 'girl.jpg', 'opencv_logo.png', 'orange.png', 'resize_apple.png', 'strawberry.png', 'sunset.jpg', '스크린샷 2025-03-18 114847.png']\n"
     ]
    }
   ],
   "source": [
    "for filename in IMG_FILELIST:\n",
    "\t## 파일명에서 확장자 추출\n",
    "\tidxValue=filename.find('.')\n",
    "\tif idxValue>0:\n",
    "\t\tif filename[\tidxValue+1: ] not in ['jpg', 'jpeg', 'png', 'bmp']:\n",
    "\t\t\tIMG_FILELIST.remove(filename)\n",
    "\telse:\n",
    "\t\tprint(f'NOT FILE : {filename}')\n",
    "\t\tIMG_FILELIST.remove(filename)\n",
    "\t\n",
    "print(IMG_FILELIST)"
   ]
  },
  {
   "cell_type": "markdown",
   "metadata": {},
   "source": [
    "[2] 이미지 데이터 로딩 <hr>"
   ]
  },
  {
   "cell_type": "code",
   "execution_count": 76,
   "metadata": {},
   "outputs": [
    {
     "name": "stdout",
     "output_type": "stream",
     "text": [
      "rgbIMG => (601, 924, 3)\n",
      "rgbIMG => (60, 60, 3)\n",
      "resizefile => ../data/image/DS/resize_apple.png\n",
      "label => app, data => (10800,)\n",
      "sdata => ['252', '251', '251', '252', '250', '250', '251', '251', '251', '251', '251', '251', '251', '251', '251', '251', '251', '251', '250', '250', '249', '250', '250', '250', '250', '250', '250', '250', '250', '250']\n"
     ]
    }
   ],
   "source": [
    "## Grayscale 형식으로 이미지 데이터 로딩\n",
    "with open(IMG_CSV, mode = 'a') as csvF:\n",
    "\tfor filename in IMG_FILELIST:\n",
    "\t\t# - 3채널로 이미지 로딩\n",
    "\t\trgbIMG = cv2.imread(IMG_DIR+filename, cv2.IMREAD_COLOR)\n",
    "\t\tprint(f'rgbIMG => {rgbIMG.shape}')\n",
    "\n",
    "\t\t# - 사이즈 조정\n",
    "\t\trgbIMG = cv2.resize(rgbIMG, (COL, ROW))\n",
    "\t\tprint(f'rgbIMG => {rgbIMG.shape}')\n",
    "\n",
    "\t\t# - 파일로 저장\n",
    "\t\tresizeFile = f'{DS_DIR}resize_{filename}'\n",
    "\t\tprint(f'resizefile => {resizeFile}')\n",
    "\t\t\n",
    "\t\t# - opencv 채널 순서 BGR ==> 일반 RGB\n",
    "\t\tret = cv2.imwrite(resizeFile, cv2.cvtColor(rgbIMG, cv2.COLOR_BGR2RGB))\n",
    "\t\tif not ret: print(f'Fail => {resizeFile}')\n",
    "\n",
    "\t\t# - 채널 분리\n",
    "\t\tb, g, r = cv2.split(rgbIMG)\n",
    "\t\tb, g, r = b.reshape(-1), g.reshape(-1), r.reshape(-1)\n",
    "\n",
    "\t\t# CSV 파일 쓰기 => 라벨, 픽셀1, 픽셀2, ....., 픽셀n\n",
    "\t\tlabel = filename[:3]\n",
    "\t\tdata = np.concatenate((r, g, b))\t## 3채널 1개로 연결\n",
    "\t\tprint(f'label => {label}, data => {data.shape}')\n",
    "\n",
    "\t\tsdata = list(map(lambda n: str(n), data))\n",
    "\t\tprint(f'sdata => {sdata[:30]}')\n",
    "\t\t\n",
    "\t\tcsvF.write(str(label)+\",\")\t\t\t\t\t# 숫자 라벨 쓰기\n",
    "\t\tcsvF.write(','.join(sdata) + \"\\n\")\t\t\t# 리스트 이미지 데이터 => 문자열 변환\n",
    "\n",
    "\t\tbreak"
   ]
  },
  {
   "cell_type": "code",
   "execution_count": 77,
   "metadata": {},
   "outputs": [],
   "source": [
    "import pandas as pd"
   ]
  },
  {
   "cell_type": "code",
   "execution_count": 78,
   "metadata": {},
   "outputs": [
    {
     "name": "stdout",
     "output_type": "stream",
     "text": [
      "<class 'pandas.core.frame.DataFrame'>\n",
      "RangeIndex: 3 entries, 0 to 2\n",
      "Columns: 10801 entries, 0 to 10800\n",
      "dtypes: int64(10800), object(1)\n",
      "memory usage: 253.3+ KB\n"
     ]
    }
   ],
   "source": [
    "colorDF = pd.read_csv(IMG_CSV, header=None)\n",
    "colorDF.info()"
   ]
  },
  {
   "cell_type": "code",
   "execution_count": 79,
   "metadata": {},
   "outputs": [
    {
     "data": {
      "text/html": [
       "<div>\n",
       "<style scoped>\n",
       "    .dataframe tbody tr th:only-of-type {\n",
       "        vertical-align: middle;\n",
       "    }\n",
       "\n",
       "    .dataframe tbody tr th {\n",
       "        vertical-align: top;\n",
       "    }\n",
       "\n",
       "    .dataframe thead th {\n",
       "        text-align: right;\n",
       "    }\n",
       "</style>\n",
       "<table border=\"1\" class=\"dataframe\">\n",
       "  <thead>\n",
       "    <tr style=\"text-align: right;\">\n",
       "      <th></th>\n",
       "      <th>0</th>\n",
       "      <th>1</th>\n",
       "      <th>2</th>\n",
       "      <th>3</th>\n",
       "      <th>4</th>\n",
       "      <th>5</th>\n",
       "      <th>6</th>\n",
       "      <th>7</th>\n",
       "      <th>8</th>\n",
       "      <th>9</th>\n",
       "      <th>...</th>\n",
       "      <th>10791</th>\n",
       "      <th>10792</th>\n",
       "      <th>10793</th>\n",
       "      <th>10794</th>\n",
       "      <th>10795</th>\n",
       "      <th>10796</th>\n",
       "      <th>10797</th>\n",
       "      <th>10798</th>\n",
       "      <th>10799</th>\n",
       "      <th>10800</th>\n",
       "    </tr>\n",
       "  </thead>\n",
       "  <tbody>\n",
       "    <tr>\n",
       "      <th>0</th>\n",
       "      <td>app</td>\n",
       "      <td>252</td>\n",
       "      <td>251</td>\n",
       "      <td>251</td>\n",
       "      <td>252</td>\n",
       "      <td>250</td>\n",
       "      <td>250</td>\n",
       "      <td>251</td>\n",
       "      <td>251</td>\n",
       "      <td>251</td>\n",
       "      <td>...</td>\n",
       "      <td>245</td>\n",
       "      <td>245</td>\n",
       "      <td>245</td>\n",
       "      <td>245</td>\n",
       "      <td>245</td>\n",
       "      <td>246</td>\n",
       "      <td>246</td>\n",
       "      <td>246</td>\n",
       "      <td>246</td>\n",
       "      <td>246</td>\n",
       "    </tr>\n",
       "    <tr>\n",
       "      <th>1</th>\n",
       "      <td>app</td>\n",
       "      <td>252</td>\n",
       "      <td>251</td>\n",
       "      <td>251</td>\n",
       "      <td>252</td>\n",
       "      <td>250</td>\n",
       "      <td>250</td>\n",
       "      <td>251</td>\n",
       "      <td>251</td>\n",
       "      <td>251</td>\n",
       "      <td>...</td>\n",
       "      <td>245</td>\n",
       "      <td>245</td>\n",
       "      <td>245</td>\n",
       "      <td>245</td>\n",
       "      <td>245</td>\n",
       "      <td>246</td>\n",
       "      <td>246</td>\n",
       "      <td>246</td>\n",
       "      <td>246</td>\n",
       "      <td>246</td>\n",
       "    </tr>\n",
       "    <tr>\n",
       "      <th>2</th>\n",
       "      <td>app</td>\n",
       "      <td>252</td>\n",
       "      <td>251</td>\n",
       "      <td>251</td>\n",
       "      <td>252</td>\n",
       "      <td>250</td>\n",
       "      <td>250</td>\n",
       "      <td>251</td>\n",
       "      <td>251</td>\n",
       "      <td>251</td>\n",
       "      <td>...</td>\n",
       "      <td>245</td>\n",
       "      <td>245</td>\n",
       "      <td>245</td>\n",
       "      <td>245</td>\n",
       "      <td>245</td>\n",
       "      <td>246</td>\n",
       "      <td>246</td>\n",
       "      <td>246</td>\n",
       "      <td>246</td>\n",
       "      <td>246</td>\n",
       "    </tr>\n",
       "  </tbody>\n",
       "</table>\n",
       "<p>3 rows × 10801 columns</p>\n",
       "</div>"
      ],
      "text/plain": [
       "  0      1      2      3      4      5      6      7      8      9      ...  \\\n",
       "0   app    252    251    251    252    250    250    251    251    251  ...   \n",
       "1   app    252    251    251    252    250    250    251    251    251  ...   \n",
       "2   app    252    251    251    252    250    250    251    251    251  ...   \n",
       "\n",
       "   10791  10792  10793  10794  10795  10796  10797  10798  10799  10800  \n",
       "0    245    245    245    245    245    246    246    246    246    246  \n",
       "1    245    245    245    245    245    246    246    246    246    246  \n",
       "2    245    245    245    245    245    246    246    246    246    246  \n",
       "\n",
       "[3 rows x 10801 columns]"
      ]
     },
     "execution_count": 79,
     "metadata": {},
     "output_type": "execute_result"
    }
   ],
   "source": [
    "colorDF.head(5)"
   ]
  },
  {
   "cell_type": "markdown",
   "metadata": {},
   "source": [
    "사용자 정의 함수 <hr>"
   ]
  },
  {
   "cell_type": "code",
   "execution_count": 80,
   "metadata": {},
   "outputs": [
    {
     "ename": "NameError",
     "evalue": "name 'DATA_DIR' is not defined",
     "output_type": "error",
     "traceback": [
      "\u001b[1;31m---------------------------------------------------------------------------\u001b[0m",
      "\u001b[1;31mNameError\u001b[0m                                 Traceback (most recent call last)",
      "Cell \u001b[1;32mIn[80], line 4\u001b[0m\n\u001b[0;32m      1\u001b[0m \u001b[38;5;66;03m## 폴더 내 파일 리스트 로딩\u001b[39;00m\n\u001b[0;32m      2\u001b[0m \u001b[38;5;28;01mimport\u001b[39;00m\u001b[38;5;250m \u001b[39m\u001b[38;5;21;01mos\u001b[39;00m\n\u001b[1;32m----> 4\u001b[0m filelist \u001b[38;5;241m=\u001b[39m os\u001b[38;5;241m.\u001b[39mlistdir(\u001b[43mDATA_DIR\u001b[49m)\n",
      "\u001b[1;31mNameError\u001b[0m: name 'DATA_DIR' is not defined"
     ]
    }
   ],
   "source": [
    "## 폴더 내 파일 리스트 로딩\n",
    "import os\n",
    "\n",
    "filelist = os.listdir(DATA_DIR)"
   ]
  }
 ],
 "metadata": {
  "kernelspec": {
   "display_name": "ML_CV",
   "language": "python",
   "name": "python3"
  },
  "language_info": {
   "codemirror_mode": {
    "name": "ipython",
    "version": 3
   },
   "file_extension": ".py",
   "mimetype": "text/x-python",
   "name": "python",
   "nbconvert_exporter": "python",
   "pygments_lexer": "ipython3",
   "version": "3.9.21"
  }
 },
 "nbformat": 4,
 "nbformat_minor": 2
}
