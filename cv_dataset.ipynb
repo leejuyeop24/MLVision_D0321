{
 "cells": [
  {
   "cell_type": "markdown",
   "metadata": {},
   "source": [
    "#### [ 이미지를 파일 데이터셋으로 생성 ]\n",
    "- 이미지 파일의 raw data 사용\n",
    "- 데이터셋 파일 : csv, json, ... 등등 개발자 선택  \n",
    "- 데이터셋 파일 구성 : 라벨 + 피쳐, 피쳐 + 라벨  \n",
    "- 1개 행(row)에 1개 이미지가 저장됨!"
   ]
  },
  {
   "cell_type": "markdown",
   "metadata": {},
   "source": [
    "[1] 모듈 로딩 및 데이터 준비 <hr>"
   ]
  },
  {
   "cell_type": "code",
   "execution_count": 8,
   "metadata": {},
   "outputs": [
    {
     "name": "stdout",
     "output_type": "stream",
     "text": [
      "Python 실행 경로: c:\\Users\\KDP-35\\anaconda3\\envs\\ML_CV\\python.exe\n"
     ]
    }
   ],
   "source": [
    "import sys\n",
    "print(\"Python 실행 경로:\", sys.executable)\n",
    "\n"
   ]
  },
  {
   "cell_type": "code",
   "execution_count": 9,
   "metadata": {},
   "outputs": [
    {
     "name": "stdout",
     "output_type": "stream",
     "text": [
      "NumPy Version: 2.0.2\n",
      "OpenCV Version: 4.11.0\n"
     ]
    }
   ],
   "source": [
    "import numpy as np\n",
    "import cv2\n",
    "\n",
    "print(\"NumPy Version:\", np.__version__)\n",
    "print(\"OpenCV Version:\", cv2.__version__)\n",
    "\n"
   ]
  },
  {
   "cell_type": "code",
   "execution_count": 10,
   "metadata": {},
   "outputs": [],
   "source": [
    "## [1-1] 모듈 로딩\n",
    "import cv2\t\t\t\t\t\t\t## 일반적인 이미지 파일들에서 순수 이미지 데이터 다루는 모듈듈\n",
    "import matplotlib.pyplot as plt\t\t## 시각화\n",
    "import numpy as np\t\t\t\t\t## 순수 이미지 데이터의 저장 형식 ndarray\n",
    "import os\t\t\t\t\t\t\t## 폴더, 파일, 경로 관련"
   ]
  },
  {
   "cell_type": "code",
   "execution_count": 11,
   "metadata": {},
   "outputs": [],
   "source": [
    "## [1-2] 데이터 준비\n",
    "IMG_DIR = '../data/image/'\t\t## 이미지 존재 폴더\n",
    "ROW, COL = 60, 60\t\t\t\t## 이미지 리사이징 크기\n",
    "IMG_CSV = '../data/animal.csv'"
   ]
  },
  {
   "cell_type": "code",
   "execution_count": null,
   "metadata": {},
   "outputs": [],
   "source": [
    "## [1-3] 사용 이미지 파일리스트 추출\n",
    "IMG_FILELIST = os.listdir(IMG_DIR)\n",
    "\n",
    "\n",
    "for filename in IMG_FILELIST:\n",
    "\tif not os.path.isfile(IMG_DIR+filename):\n",
    "\t\t# 파일이 아닌 경우 처리-리스트에서 제거\n",
    "\t\tIMG_FILELIST.remove(filename)\n",
    "print(IMG_FILELIST)"
   ]
  },
  {
   "cell_type": "code",
   "execution_count": 13,
   "metadata": {},
   "outputs": [
    {
     "name": "stdout",
     "output_type": "stream",
     "text": [
      "[12, 4, 5]\n"
     ]
    }
   ],
   "source": [
    "aa = [12, 3, 4, 5]\n",
    "aa.remove(3)\n",
    "print(aa)"
   ]
  },
  {
   "cell_type": "code",
   "execution_count": 17,
   "metadata": {},
   "outputs": [
    {
     "name": "stdout",
     "output_type": "stream",
     "text": [
      "['apple.png', 'apple_gray.png', 'copy_orange.png', 'cropped.jpg', 'fish.jpg', 'girl.jpg', 'opencv_logo.png', 'orange.png', 'orange_gray.png', 'strawberry.png', 'sunset.jpg', '스크린샷 2025-03-18 114847.png']\n"
     ]
    }
   ],
   "source": [
    "print(IMG_FILELIST)"
   ]
  },
  {
   "cell_type": "code",
   "execution_count": 18,
   "metadata": {},
   "outputs": [
    {
     "name": "stdout",
     "output_type": "stream",
     "text": [
      "png\n",
      "png\n",
      "png\n",
      "jpg\n",
      "jpg\n",
      "jpg\n",
      "png\n",
      "png\n",
      "png\n",
      "png\n",
      "jpg\n",
      "png\n"
     ]
    }
   ],
   "source": [
    "for filename in IMG_FILELIST:\n",
    "\tprint (filename[\tfilename.index('.')+1: ])\n",
    "\tif filename[\tfilename.index('.')+1: ] not in ['jpg', 'jpeg', 'png', 'bmp']:\n",
    "\t\tIMG_FILELIST.remove(filename)"
   ]
  },
  {
   "cell_type": "markdown",
   "metadata": {},
   "source": [
    "[2] 이미지 데이터 로딩 <hr>"
   ]
  },
  {
   "cell_type": "code",
   "execution_count": 19,
   "metadata": {},
   "outputs": [
    {
     "name": "stdout",
     "output_type": "stream",
     "text": [
      "grayIMG => (601, 924)\n",
      "grayIMG => (60, 60)\n",
      "grayfile => ../data/image/gray_apple.png\n",
      "label => app, data => (3600,)\n",
      "sdata => ['252', '251', '251', '252', '250', '250', '251', '251', '251', '251', '251', '251', '251', '251', '251', '251', '251', '251', '250', '250', '249', '250', '250', '250', '250', '250', '250', '250', '250', '250']\n"
     ]
    }
   ],
   "source": [
    "## Grayscale 형식으로 이미지 데이터 로딩\n",
    "with open(IMG_CSV, mode = 'a') as csvF:\n",
    "\tfor filename in IMG_FILELIST:\n",
    "\t\tgrayIMG = cv2.imread(IMG_DIR+filename, cv2.IMREAD_GRAYSCALE)\n",
    "\t\tprint(f'grayIMG => {grayIMG.shape}')\n",
    "\n",
    "\t\t# - 사이즈 조정\n",
    "\t\tgrayIMG = cv2.resize(grayIMG, (COL, ROW))\n",
    "\t\tprint(f'grayIMG => {grayIMG.shape}')\n",
    "\n",
    "\t\t# - 파일로 저장\n",
    "\t\tgrayFile = f'{IMG_DIR}gray_{filename}'\n",
    "\t\tprint(f'grayfile => {grayFile}')\n",
    "\t\tret = cv2.imwrite(grayFile, grayIMG)\n",
    "\t\tif not ret: print(f'Fail => {grayFile}')\n",
    "\n",
    "\t\t# CSV 파일 쓰기 => 라벨, 픽셀1, 픽셀2, ....., 픽셀n\n",
    "\t\tlabel = filename[:3]\n",
    "\t\tdata = grayIMG.reshape(-1)\n",
    "\t\tprint(f'label => {label}, data => {data.shape}')\n",
    "\n",
    "\t\tsdata = list(map(lambda n: str(n), data))\n",
    "\t\tprint(f'sdata => {sdata[:30]}')\n",
    "\t\t\n",
    "\t\tcsvF.write(str(label)+\",\")\t\t\t\t\t# 숫자 라벨 쓰기\n",
    "\t\tcsvF.write(','.join(sdata) + \"\\n\")\t\t\t# 리스트 이미지 데이터 => 문자열 변환\n",
    "\n",
    "\t\tbreak"
   ]
  },
  {
   "cell_type": "code",
   "execution_count": null,
   "metadata": {},
   "outputs": [],
   "source": []
  }
 ],
 "metadata": {
  "kernelspec": {
   "display_name": "ML_CV",
   "language": "python",
   "name": "python3"
  },
  "language_info": {
   "codemirror_mode": {
    "name": "ipython",
    "version": 3
   },
   "file_extension": ".py",
   "mimetype": "text/x-python",
   "name": "python",
   "nbconvert_exporter": "python",
   "pygments_lexer": "ipython3",
   "version": "3.9.21"
  }
 },
 "nbformat": 4,
 "nbformat_minor": 2
}
