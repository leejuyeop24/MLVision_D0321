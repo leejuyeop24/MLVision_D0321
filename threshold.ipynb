{
 "cells": [
  {
   "cell_type": "markdown",
   "metadata": {},
   "source": [
    "[바이너리 이미지 만들기]"
   ]
  },
  {
   "cell_type": "code",
   "execution_count": 1,
   "metadata": {},
   "outputs": [],
   "source": [
    "import cv2\n",
    "import numpy as np\n",
    "import matplotlib.pylab as plt"
   ]
  },
  {
   "cell_type": "code",
   "execution_count": 2,
   "metadata": {},
   "outputs": [],
   "source": [
    "# 이미지를 그레이 스케일로 읽기\n",
    "img = cv2.imread('../data/img/img/gray_gradient.jpg', cv2.IMREAD_GRAYSCALE)"
   ]
  },
  {
   "cell_type": "code",
   "execution_count": 3,
   "metadata": {},
   "outputs": [],
   "source": [
    "# Numpy연산으로 바이너리 이미지 만들기\n",
    "thresh_np = np.zeros_like(img)\t# 원본과 동일한 크기의 0으로 채워진 이미지\n",
    "thresh_np[\timg > 127] = 255\t# 127보다 큰 값만 255로 변경"
   ]
  },
  {
   "cell_type": "code",
   "execution_count": 4,
   "metadata": {},
   "outputs": [
    {
     "name": "stdout",
     "output_type": "stream",
     "text": [
      "127.0\n"
     ]
    }
   ],
   "source": [
    "# OpenCV함수로 바이너리 이미지 만들기\n",
    "ret, thresh_cv = cv2.threshold(img, 127, 255, cv2.THRESH_BINARY)\n",
    "print(ret)\t# 127.0, 바이너리 이미지에 사용된 경계 값 반환"
   ]
  },
  {
   "cell_type": "code",
   "execution_count": 5,
   "metadata": {},
   "outputs": [
    {
     "data": {
      "image/png": "[encoded data removed]",
      "text/plain": [
       "<Figure size 640x480 with 3 Axes>"
      ]
     },
     "metadata": {},
     "output_type": "display_data"
    }
   ],
   "source": [
    "# 원본과 결과물 출력\n",
    "imgs = {'Original': img, 'Numpy API':thresh_np, 'cv2.threshold': thresh_cv}\n",
    "for i, (key, value)\tin enumerate(imgs.items()):\n",
    "\tplt.subplot(1, 3, i+1)\n",
    "\tplt.title(key)\n",
    "\tplt.imshow(value, cmap='gray')\n",
    "\tplt.xticks([]); plt.yticks([])\n",
    "\n",
    "plt.show()"
   ]
  }
 ],
 "metadata": {
  "kernelspec": {
   "display_name": "ML_CV",
   "language": "python",
   "name": "python3"
  },
  "language_info": {
   "codemirror_mode": {
    "name": "ipython",
    "version": 3
   },
   "file_extension": ".py",
   "mimetype": "text/x-python",
   "name": "python",
   "nbconvert_exporter": "python",
   "pygments_lexer": "ipython3",
   "version": "3.9.21"
  }
 },
 "nbformat": 4,
 "nbformat_minor": 2
}
