{
 "cells": [
  {
   "cell_type": "markdown",
   "metadata": {},
   "source": [
    "[selectROI로 관심영역 지정]"
   ]
  },
  {
   "cell_type": "code",
   "execution_count": 7,
   "metadata": {},
   "outputs": [],
   "source": [
    "import cv2, numpy as np"
   ]
  },
  {
   "cell_type": "code",
   "execution_count": 8,
   "metadata": {},
   "outputs": [],
   "source": [
    "img = cv2.imread('../data/image/sunset.jpg')"
   ]
  },
  {
   "cell_type": "code",
   "execution_count": 9,
   "metadata": {},
   "outputs": [],
   "source": [
    "x,y,w,h = cv2.selectROI('img', img, False)\n",
    "if w and h:\n",
    "\troi = img[y:y+h, x:x+w]\n",
    "\tcv2.imshow('cropped', roi)\t\t\t\t\t\t# ROI 지정 영역을 새 창으로 표시\n",
    "\tcv2.moveWindow('cropped', 0, 0)\t\t\t\t\t# 새 창을 화면 좌측 상단으로 이동\n",
    "\tcv2.imwrite('../data/image/cropped2.jpg', roi)\t# ROI 영역만 파일로 저장\n",
    "cv2.imshow('img', img)\n",
    "cv2.waitKey(0)\n",
    "cv2.destroyAllWindows()"
   ]
  }
 ],
 "metadata": {
  "kernelspec": {
   "display_name": "ML_CV",
   "language": "python",
   "name": "python3"
  },
  "language_info": {
   "codemirror_mode": {
    "name": "ipython",
    "version": 3
   },
   "file_extension": ".py",
   "mimetype": "text/x-python",
   "name": "python",
   "nbconvert_exporter": "python",
   "pygments_lexer": "ipython3",
   "version": "3.9.21"
  }
 },
 "nbformat": 4,
 "nbformat_minor": 2
}
